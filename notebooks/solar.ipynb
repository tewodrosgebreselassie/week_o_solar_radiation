{
 "cells": [
  {
   "cell_type": "code",
   "execution_count": 1,
   "metadata": {},
   "outputs": [],
   "source": [
    "import pandas as pd\n",
    "import matplotlib.pyplot as plt\n",
    "import seaborn as sns\n",
    "import matplotlib.dates as mdates"
   ]
  },
  {
   "cell_type": "code",
   "execution_count": 3,
   "metadata": {},
   "outputs": [],
   "source": [
    "# Read CSV files for each country\n",
    "benin_file_path = '../data/benin-malanville.csv'\n",
    "df_benin = pd.read_csv(benin_file_path)\n",
    "\n",
    "togo_file_path = '../data/sierraleone-bumbuna.csv'\n",
    "df_togo = pd.read_csv(togo_file_path)\n",
    "\n",
    "sierraleone_file_path = '../data/togo-dapaong_qc.csv'\n",
    "df_sierraleone = pd.read_csv(sierraleone_file_path)"
   ]
  }
 ],
 "metadata": {
  "kernelspec": {
   "display_name": "venv",
   "language": "python",
   "name": "python3"
  },
  "language_info": {
   "codemirror_mode": {
    "name": "ipython",
    "version": 3
   },
   "file_extension": ".py",
   "mimetype": "text/x-python",
   "name": "python",
   "nbconvert_exporter": "python",
   "pygments_lexer": "ipython3",
   "version": "3.12.3"
  }
 },
 "nbformat": 4,
 "nbformat_minor": 2
}
